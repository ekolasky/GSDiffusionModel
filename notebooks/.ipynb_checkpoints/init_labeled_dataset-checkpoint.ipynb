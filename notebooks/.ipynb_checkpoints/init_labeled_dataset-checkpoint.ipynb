{
 "cells": [
  {
   "cell_type": "markdown",
   "metadata": {},
   "source": [
    "# Initialize labeled dataset from CO3D\n",
    "You can ignore this section if labeled dataset is already in S3 bucket (in which case skip to the next section)."
   ]
  },
  {
   "cell_type": "code",
   "execution_count": 1,
   "metadata": {
    "scrolled": true,
    "vscode": {
     "languageId": "plaintext"
    }
   },
   "outputs": [
    {
     "name": "stdout",
     "output_type": "stream",
     "text": [
      "Traceback (most recent call last):\n",
      "  File \"/usr/lib/python3.10/runpy.py\", line 196, in _run_module_as_main\n",
      "    return _run_code(code, main_globals, None,\n",
      "  File \"/usr/lib/python3.10/runpy.py\", line 86, in _run_code\n",
      "    exec(code, run_globals)\n",
      "  File \"/workspace/GSDiffusionModel/scripts/dataset/labeled/download_labeled_dataset.py\", line 13, in <module>\n",
      "    from tqdm import tqdm\n",
      "ModuleNotFoundError: No module named 'tqdm'\n"
     ]
    }
   ],
   "source": [
    "# Download dataset\n",
    "\n",
    "!cd .. && python -m scripts.dataset.labeled.download_labeled_dataset --category hydrant"
   ]
  },
  {
   "cell_type": "code",
   "execution_count": 12,
   "metadata": {
    "scrolled": true,
    "vscode": {
     "languageId": "plaintext"
    }
   },
   "outputs": [
    {
     "name": "stdout",
     "output_type": "stream",
     "text": [
      "Directory structure verified. Found 1 category folders.\n",
      "Processing category: hydrant\n",
      "Processing folder: data/labeled_gs/raw/hydrant/hydrant\n",
      "/workspace/GSDiffusionModel/submodules/gaussian-splatting/train.py\n",
      "/workspace/GSDiffusionModel/data/labeled_gs/raw/hydrant/hydrant/106_12648_23157\n",
      "^C\n"
     ]
    }
   ],
   "source": [
    "# Convert dataset to GS\n",
    "\n",
    "!cd .. && python -m scripts.dataset.labeled.create_gs_dataset --category hydrant --network_gui False"
   ]
  },
  {
   "cell_type": "code",
   "execution_count": 5,
   "metadata": {},
   "outputs": [
    {
     "name": "stdout",
     "output_type": "stream",
     "text": [
      "Looking for config file in /workspace/GSDiffusionModel/data/labeled_gs/raw/hydrant/hydrant/106_12653_23216/cfg_args\n",
      "Config file found: /workspace/GSDiffusionModel/data/labeled_gs/raw/hydrant/hydrant/106_12653_23216/cfg_args\n",
      "Rendering /workspace/GSDiffusionModel/data/labeled_gs/raw/hydrant/hydrant/106_12653_23216\n",
      "/workspace/GSDiffusionModel/data/labeled_gs/raw/hydrant/hydrant/106_12653_23216/point_cloud [01/09 11:09:15]\n",
      "['iteration_5000', 'iteration_2000', 'iteration_10'] [01/09 11:09:15]\n",
      "Loading trained model at iteration 5000 [01/09 11:09:15]\n",
      "Reading camera 202/202 [01/09 11:09:15]\n",
      "Loading Training Cameras [01/09 11:09:15]\n",
      "Loading Test Cameras [01/09 11:09:27]\n",
      "Rendering progress: 100%|█████████████████████| 202/202 [00:42<00:00,  4.71it/s]\n",
      "Rendering progress: 0it [00:00, ?it/s]\n"
     ]
    }
   ],
   "source": [
    "!cd .. && python submodules/gaussian-splatting/render.py -m /workspace/GSDiffusionModel/data/labeled_gs/raw/hydrant/hydrant/106_12653_23216"
   ]
  },
  {
   "cell_type": "code",
   "execution_count": 12,
   "metadata": {},
   "outputs": [
    {
     "name": "stdout",
     "output_type": "stream",
     "text": [
      "Looking for config file in /workspace/south-building/cfg_args\n",
      "Config file found: /workspace/south-building/cfg_args\n",
      "Rendering /workspace/south-building\n",
      "/workspace/south-building/point_cloud [01/09 03:46:34]\n",
      "['iteration_10'] [01/09 03:46:34]\n",
      "Loading trained model at iteration 10 [01/09 03:46:34]\n",
      "Reading camera 128/128 [01/09 03:46:34]\n",
      "Loading Training Cameras [01/09 03:46:34]\n",
      "[ INFO ] Encountered quite large input images (>1.6K pixels width), rescaling to 1.6K.\n",
      " If this is not desired, please explicitly specify '--resolution/-r' as 1 [01/09 03:46:34]\n",
      "Loading Test Cameras [01/09 03:46:56]\n",
      "Rendering progress: 100%|█████████████████████| 128/128 [02:00<00:00,  1.06it/s]\n",
      "Rendering progress: 0it [00:00, ?it/s]\n"
     ]
    }
   ],
   "source": [
    "!cd .. && python submodules/gaussian-splatting/render.py -m /workspace/south-building"
   ]
  },
  {
   "cell_type": "code",
   "execution_count": 9,
   "metadata": {},
   "outputs": [
    {
     "name": "stdout",
     "output_type": "stream",
     "text": [
      "# Image list with two lines of data per image:\n",
      "#   IMAGE_ID, QW, QX, QY, QZ, TX, TY, TZ, CAMERA_ID, NAME\n",
      "#   POINTS2D[] as (X, Y, POINT3D_ID)\n",
      "# Number of images: 202, mean observations per image: 2500\n",
      "1 0.43923069735190345 -0.5312714836975936 -0.012955058327317137 -0.7243336051690912 -0.010589353740215302 2.3088395595550537 9.083442687988281 1 frame000001.jpg\n",
      "48 0.06198152213049953 -0.05356958804565001 0.010805305963446976 0.9965800697957199 0.38255879282951355 0.7826452851295471 7.525020122528076 48 frame000048.jpg\n"
     ]
    }
   ],
   "source": [
    "with open(\"/workspace/GSDiffusionModel/data/labeled_gs/raw/hydrant/hydrant/106_12653_23216/sparse/0/images.txt\", \"r\") as f:\n",
    "    lines = f.read().split('\\n')\n",
    "    print('\\n'.join(lines[0:5]))\n",
    "    print(lines[98])"
   ]
  },
  {
   "cell_type": "code",
   "execution_count": 4,
   "metadata": {},
   "outputs": [
    {
     "name": "stdout",
     "output_type": "stream",
     "text": [
      "# Camera list with one line of data per camera:\n",
      "#   CAMERA_ID, MODEL, WIDTH, HEIGHT, PARAMS[6]\n",
      "# Number of cameras: 202\n",
      "1 PINHOLE 719 1646 247.01188123953466 565.4819979419667 359 823\n",
      "2 PINHOLE 719 1646 246.9641622844523 565.3727553827656 359 823\n",
      "48 PINHOLE 719 1646 244.61185364354063 559.9876371311098 359 823\n"
     ]
    }
   ],
   "source": [
    "with open(\"/workspace/GSDiffusionModel/data/labeled_gs/raw/hydrant/hydrant/106_12653_23216/sparse/0/cameras.txt\", \"r\") as f:\n",
    "    lines = f.read().split('\\n')\n",
    "    print('\\n'.join(lines[0:5]))\n",
    "    print(lines[50])"
   ]
  },
  {
   "cell_type": "code",
   "execution_count": 20,
   "metadata": {},
   "outputs": [
    {
     "name": "stdout",
     "output_type": "stream",
     "text": [
      "['# 3D point list with one line of data per point:', '#   POINT3D_ID, X, Y, Z, R, G, B, ERROR, TRACK[] as (IMAGE_ID, POINT2D_IDX)', '# Number of points: 980001, mean track length: 0.0', '1 -0.4043790102005005 -1.2760553359985352 -0.4534003734588623 156 161 161 0.0', '2 0.3273124694824219 -0.9985339641571045 0.8547940254211426 220 220 230 0.0']\n",
      "X Range: [-1.280186414718628, 1.9200682640075684]\n",
      "Y Range: [-1.9406838417053223, 3.504551887512207]\n",
      "Z Range: [-1.3880338668823242, 3.6833600997924805]\n"
     ]
    }
   ],
   "source": [
    "with open(\"/workspace/GSDiffusionModel/data/labeled_gs/raw/hydrant/hydrant/106_12653_23216/sparse/0/points3D.txt\", \"r\") as f:\n",
    "    lines = f.read().splitlines()  # Use splitlines to handle newlines correctly\n",
    "    print(lines[:5])\n",
    "\n",
    "    x_range = [float('inf'), float('-inf')]\n",
    "    y_range = [float('inf'), float('-inf')]\n",
    "    z_range = [float('inf'), float('-inf')]\n",
    "\n",
    "    for line in lines[3:]:\n",
    "        if line.strip():  # Skip empty lines\n",
    "            segs = line.split(' ')\n",
    "\n",
    "            # Convert string values to floats\n",
    "            x = float(segs[1])\n",
    "            y = float(segs[2])\n",
    "            z = float(segs[3])\n",
    "\n",
    "            # Update x_range\n",
    "            if x < x_range[0]:\n",
    "                x_range[0] = x\n",
    "            if x > x_range[1]:\n",
    "                x_range[1] = x\n",
    "\n",
    "            # Update y_range\n",
    "            if y < y_range[0]:\n",
    "                y_range[0] = y\n",
    "            if y > y_range[1]:\n",
    "                y_range[1] = y\n",
    "\n",
    "            # Update z_range\n",
    "            if z < z_range[0]:\n",
    "                z_range[0] = z\n",
    "            if z > z_range[1]:\n",
    "                z_range[1] = z\n",
    "\n",
    "    print(\"X Range:\", x_range)\n",
    "    print(\"Y Range:\", y_range)\n",
    "    print(\"Z Range:\", z_range)"
   ]
  },
  {
   "cell_type": "code",
   "execution_count": 18,
   "metadata": {},
   "outputs": [
    {
     "name": "stdout",
     "output_type": "stream",
     "text": [
      "['# Image list with two lines of data per image:', '#   IMAGE_ID, QW, QX, QY, QZ, TX, TY, TZ, CAMERA_ID, NAME', '#   POINTS2D[] as (X, Y, POINT3D_ID)', '# Number of images: 202, mean observations per image: 2500', '1 0.7243336051690914 0.012955058327316998 -0.531271483697594 -0.43923069735190345 -0.010589353740215302 2.3088395595550537 9.083442687988281 1 frame000001.jpg']\n",
      "X Range: [-1.2386572360992432, 0.781455934047699]\n",
      "Y Range: [-0.30876585841178894, 2.3088395595550537]\n",
      "Z Range: [6.0859150886535645, 9.089887619018555]\n"
     ]
    }
   ],
   "source": [
    "with open(\"/workspace/GSDiffusionModel/data/labeled_gs/raw/hydrant/hydrant/106_12653_23216/sparse/0/images.txt\", \"r\") as f:\n",
    "    lines = f.read().splitlines()  # Use splitlines to handle newlines correctly\n",
    "    print(lines[:5])\n",
    "\n",
    "    x_range = [float('inf'), float('-inf')]\n",
    "    y_range = [float('inf'), float('-inf')]\n",
    "    z_range = [float('inf'), float('-inf')]\n",
    "\n",
    "    for line in lines[4:]:\n",
    "        if line.strip():  # Skip empty lines\n",
    "            segs = line.split(' ')\n",
    "\n",
    "            # Convert string values to floats\n",
    "            x = float(segs[5])\n",
    "            y = float(segs[6])\n",
    "            z = float(segs[7])\n",
    "\n",
    "            # Update x_range\n",
    "            if x < x_range[0]:\n",
    "                x_range[0] = x\n",
    "            if x > x_range[1]:\n",
    "                x_range[1] = x\n",
    "\n",
    "            # Update y_range\n",
    "            if y < y_range[0]:\n",
    "                y_range[0] = y\n",
    "            if y > y_range[1]:\n",
    "                y_range[1] = y\n",
    "\n",
    "            # Update z_range\n",
    "            if z < z_range[0]:\n",
    "                z_range[0] = z\n",
    "            if z > z_range[1]:\n",
    "                z_range[1] = z\n",
    "\n",
    "    print(\"X Range:\", x_range)\n",
    "    print(\"Y Range:\", y_range)\n",
    "    print(\"Z Range:\", z_range)\n",
    "    "
   ]
  },
  {
   "cell_type": "markdown",
   "metadata": {},
   "source": [
    "### Testing CO3D Data"
   ]
  },
  {
   "cell_type": "code",
   "execution_count": 15,
   "metadata": {},
   "outputs": [
    {
     "name": "stdout",
     "output_type": "stream",
     "text": [
      "156.00000383603373\n",
      "161.0000028179381\n",
      "161.0000028179381\n"
     ]
    }
   ],
   "source": [
    "def SH2RGB(sh):\n",
    "    return sh * 0.28209479177387814 + 0.5\n",
    "\n",
    "print(SH2RGB(0.39619562)*255) \n",
    "print(SH2RGB(0.4657036)* 255) \n",
    "print(SH2RGB(0.4657036)* 255) "
   ]
  },
  {
   "cell_type": "code",
   "execution_count": 20,
   "metadata": {},
   "outputs": [
    {
     "name": "stdout",
     "output_type": "stream",
     "text": [
      "(-0.404379, -1.2760553, -0.45340037, 0., 0., 0., 0.39619562, 0.4657036, 0.4657036, 0., 0., 0., 0., 0., 0., 0., 0., 0., 0., 0., 0., 0., 0., 0., 0., 0., 0., 0., 0., 0., 0., 0., 0., 0., 0., 0., 0., 0., 0., 0., 0., 0., 0., 0., 0., 0., 0., 0., 0., 0., 0., 0., 0., 0., -2.1972246, -5.257743, -5.257743, -5.257743, 1., 0., 0., 0.)\n",
      "(0.32731247, -0.99853396, 0.854794, 0., 0., 0., 1.2858979, 1.2858979, 1.4249139, 0., 0., 0., 0., 0., 0., 0., 0., 0., 0., 0., 0., 0., 0., 0., 0., 0., 0., 0., 0., 0., 0., 0., 0., 0., 0., 0., 0., 0., 0., 0., 0., 0., 0., 0., 0., 0., 0., 0., 0., 0., 0., 0., 0., 0., -2.1972246, -5.399721, -5.399721, -5.399721, 1., 0., 0., 0.)\n",
      "(0.49003685, -0.7794697, -0.8508241, 0., 0., 0., 1.2997994, 1.2580947, 1.2580947, 0., 0., 0., 0., 0., 0., 0., 0., 0., 0., 0., 0., 0., 0., 0., 0., 0., 0., 0., 0., 0., 0., 0., 0., 0., 0., 0., 0., 0., 0., 0., 0., 0., 0., 0., 0., 0., 0., 0., 0., 0., 0., 0., 0., 0., -2.1972246, -4.3777213, -4.3777213, -4.3777213, 1., 0., 0., 0.)\n",
      "(-0.60084534, 1.0265565, 0.28574705, 0., 0., 0., -0.8549482, -0.78544027, -0.91055477, 0., 0., 0., 0., 0., 0., 0., 0., 0., 0., 0., 0., 0., 0., 0., 0., 0., 0., 0., 0., 0., 0., 0., 0., 0., 0., 0., 0., 0., 0., 0., 0., 0., 0., 0., 0., 0., 0., 0., 0., 0., 0., 0., 0., 0., -2.1972246, -4.638318, -4.638318, -4.638318, 1., 0., 0., 0.)\n",
      "(-0.00624979, -0.960207, -1.0422194, 0., 0., 0., 0.7854404, 0.81324357, 0.81324357, 0., 0., 0., 0., 0., 0., 0., 0., 0., 0., 0., 0., 0., 0., 0., 0., 0., 0., 0., 0., 0., 0., 0., 0., 0., 0., 0., 0., 0., 0., 0., 0., 0., 0., 0., 0., 0., 0., 0., 0., 0., 0., 0., 0., 0., -2.1972246, -4.588223, -4.588223, -4.588223, 1., 0., 0., 0.)\n",
      "ply\n",
      "format binary_little_endian 1.0\n",
      "element vertex 980001\n",
      "property float x\n",
      "property float y\n",
      "property float z\n",
      "property float nx\n",
      "property float ny\n",
      "property float nz\n",
      "property float f_dc_0\n",
      "property float f_dc_1\n",
      "property float f_dc_2\n",
      "property float f_rest_0\n",
      "property float f_rest_1\n",
      "property float f_rest_2\n",
      "property float f_rest_3\n",
      "property float f_rest_4\n",
      "property float f_rest_5\n",
      "property float f_rest_6\n",
      "property float f_rest_7\n",
      "property float f_rest_8\n",
      "property float f_rest_9\n",
      "property float f_rest_10\n",
      "property float f_rest_11\n",
      "property float f_rest_12\n",
      "property float f_rest_13\n",
      "property float f_rest_14\n",
      "property float f_rest_15\n",
      "property float f_rest_16\n",
      "property float f_rest_17\n",
      "property float f_rest_18\n",
      "property float f_rest_19\n",
      "property float f_rest_20\n",
      "property float f_rest_21\n",
      "property float f_rest_22\n",
      "property float f_rest_23\n",
      "property float f_rest_24\n",
      "property float f_rest_25\n",
      "property float f_rest_26\n",
      "property float f_rest_27\n",
      "property float f_rest_28\n",
      "property float f_rest_29\n",
      "property float f_rest_30\n",
      "property float f_rest_31\n",
      "property float f_rest_32\n",
      "property float f_rest_33\n",
      "property float f_rest_34\n",
      "property float f_rest_35\n",
      "property float f_rest_36\n",
      "property float f_rest_37\n",
      "property float f_rest_38\n",
      "property float f_rest_39\n",
      "property float f_rest_40\n",
      "property float f_rest_41\n",
      "property float f_rest_42\n",
      "property float f_rest_43\n",
      "property float f_rest_44\n",
      "property float opacity\n",
      "property float scale_0\n",
      "property float scale_1\n",
      "property float scale_2\n",
      "property float rot_0\n",
      "property float rot_1\n",
      "property float rot_2\n",
      "property float rot_3\n",
      "end_header\n"
     ]
    }
   ],
   "source": [
    "from plyfile import PlyData\n",
    "\n",
    "# Load the PLY file\n",
    "ply_data = PlyData.read('/workspace/GSDiffusionModel/data/labeled_gs/raw/hydrant/hydrant/106_12653_23216/point_cloud/iteration_10/point_cloud.ply')  # Replace with your PLY file path\n",
    "\n",
    "# Access the vertex data (assuming the file contains vertices)\n",
    "vertex_data = ply_data['vertex']\n",
    "\n",
    "# Print a few lines of the vertex data\n",
    "for i in range(5):  # Adjust the range to view more or fewer lines\n",
    "    print(vertex_data[i])\n",
    "print(ply_data)"
   ]
  },
  {
   "cell_type": "code",
   "execution_count": 21,
   "metadata": {},
   "outputs": [],
   "source": [
    "import numpy as np\n",
    "from plyfile import PlyData, PlyElement\n",
    "\n",
    "new_data = np.array(\n",
    "    [(vertex[0], vertex[1], vertex[2], SH2RGB(vertex[6])*255, SH2RGB(vertex[7])*255, SH2RGB(vertex[8])*255) for vertex in vertex_data],\n",
    "    dtype=[('x', 'f4'), ('y', 'f4'), ('z', 'f4'), ('red', 'u1'), ('green', 'u1'), ('blue', 'u1')]\n",
    ")\n",
    "\n",
    "# Create the PLY element\n",
    "vertex_element = PlyElement.describe(new_data, 'vertex')\n",
    "\n",
    "# Write to PLY file\n",
    "PlyData([vertex_element]).write('/workspace/GSDiffusionModel/data/labeled_gs/raw/hydrant/hydrant/106_12653_23216/point_cloud/iteration_10/output.ply')"
   ]
  },
  {
   "cell_type": "code",
   "execution_count": 3,
   "metadata": {
    "scrolled": true
   },
   "outputs": [
    {
     "ename": "PlyHeaderParseError",
     "evalue": "line 1: expected 'ply'",
     "output_type": "error",
     "traceback": [
      "\u001b[0;31m---------------------------------------------------------------------------\u001b[0m",
      "\u001b[0;31mPlyHeaderParseError\u001b[0m                       Traceback (most recent call last)",
      "Cell \u001b[0;32mIn[3], line 4\u001b[0m\n\u001b[1;32m      1\u001b[0m \u001b[38;5;28;01mfrom\u001b[39;00m \u001b[38;5;21;01mplyfile\u001b[39;00m \u001b[38;5;28;01mimport\u001b[39;00m PlyData\n\u001b[1;32m      3\u001b[0m \u001b[38;5;66;03m# Load the PLY file\u001b[39;00m\n\u001b[0;32m----> 4\u001b[0m ply_data \u001b[38;5;241m=\u001b[39m \u001b[43mPlyData\u001b[49m\u001b[38;5;241;43m.\u001b[39;49m\u001b[43mread\u001b[49m\u001b[43m(\u001b[49m\u001b[38;5;124;43m'\u001b[39;49m\u001b[38;5;124;43m/workspace/south-building/sparse/0/points3D.txt\u001b[39;49m\u001b[38;5;124;43m'\u001b[39;49m\u001b[43m)\u001b[49m  \u001b[38;5;66;03m# Replace with your PLY file path\u001b[39;00m\n\u001b[1;32m      6\u001b[0m \u001b[38;5;66;03m# Access the vertex data (assuming the file contains vertices)\u001b[39;00m\n\u001b[1;32m      7\u001b[0m vertex_data \u001b[38;5;241m=\u001b[39m ply_data[\u001b[38;5;124m'\u001b[39m\u001b[38;5;124mvertex\u001b[39m\u001b[38;5;124m'\u001b[39m]\n",
      "File \u001b[0;32m/usr/local/lib/python3.10/dist-packages/plyfile.py:159\u001b[0m, in \u001b[0;36mPlyData.read\u001b[0;34m(stream, mmap, known_list_len)\u001b[0m\n\u001b[1;32m    157\u001b[0m (must_close, stream) \u001b[38;5;241m=\u001b[39m _open_stream(stream, \u001b[38;5;124m'\u001b[39m\u001b[38;5;124mread\u001b[39m\u001b[38;5;124m'\u001b[39m)\n\u001b[1;32m    158\u001b[0m \u001b[38;5;28;01mtry\u001b[39;00m:\n\u001b[0;32m--> 159\u001b[0m     data \u001b[38;5;241m=\u001b[39m \u001b[43mPlyData\u001b[49m\u001b[38;5;241;43m.\u001b[39;49m\u001b[43m_parse_header\u001b[49m\u001b[43m(\u001b[49m\u001b[43mstream\u001b[49m\u001b[43m)\u001b[49m\n\u001b[1;32m    160\u001b[0m     \u001b[38;5;28;01mif\u001b[39;00m \u001b[38;5;28misinstance\u001b[39m(stream\u001b[38;5;241m.\u001b[39mread(\u001b[38;5;241m0\u001b[39m), \u001b[38;5;28mstr\u001b[39m):\n\u001b[1;32m    161\u001b[0m         \u001b[38;5;28;01mif\u001b[39;00m data\u001b[38;5;241m.\u001b[39mtext:\n",
      "File \u001b[0;32m/usr/local/lib/python3.10/dist-packages/plyfile.py:121\u001b[0m, in \u001b[0;36mPlyData._parse_header\u001b[0;34m(stream)\u001b[0m\n\u001b[1;32m    119\u001b[0m \u001b[38;5;129m@staticmethod\u001b[39m\n\u001b[1;32m    120\u001b[0m \u001b[38;5;28;01mdef\u001b[39;00m \u001b[38;5;21m_parse_header\u001b[39m(stream):\n\u001b[0;32m--> 121\u001b[0m     parser \u001b[38;5;241m=\u001b[39m _PlyHeaderParser(\u001b[43m_PlyHeaderLines\u001b[49m\u001b[43m(\u001b[49m\u001b[43mstream\u001b[49m\u001b[43m)\u001b[49m)\n\u001b[1;32m    122\u001b[0m     \u001b[38;5;28;01mreturn\u001b[39;00m PlyData(\n\u001b[1;32m    123\u001b[0m         [PlyElement(\u001b[38;5;241m*\u001b[39me) \u001b[38;5;28;01mfor\u001b[39;00m e \u001b[38;5;129;01min\u001b[39;00m parser\u001b[38;5;241m.\u001b[39melements],\n\u001b[1;32m    124\u001b[0m         parser\u001b[38;5;241m.\u001b[39mformat \u001b[38;5;241m==\u001b[39m \u001b[38;5;124m'\u001b[39m\u001b[38;5;124mascii\u001b[39m\u001b[38;5;124m'\u001b[39m,\n\u001b[0;32m   (...)\u001b[0m\n\u001b[1;32m    127\u001b[0m         parser\u001b[38;5;241m.\u001b[39mobj_info\n\u001b[1;32m    128\u001b[0m     )\n",
      "File \u001b[0;32m/usr/local/lib/python3.10/dist-packages/plyfile.py:1272\u001b[0m, in \u001b[0;36m_PlyHeaderLines.__init__\u001b[0;34m(self, stream)\u001b[0m\n\u001b[1;32m   1270\u001b[0m \u001b[38;5;28mself\u001b[39m\u001b[38;5;241m.\u001b[39mchars \u001b[38;5;241m=\u001b[39m []\n\u001b[1;32m   1271\u001b[0m \u001b[38;5;28;01mif\u001b[39;00m s[:\u001b[38;5;241m3\u001b[39m] \u001b[38;5;241m!=\u001b[39m \u001b[38;5;124m'\u001b[39m\u001b[38;5;124mply\u001b[39m\u001b[38;5;124m'\u001b[39m:\n\u001b[0;32m-> 1272\u001b[0m     \u001b[38;5;28;01mraise\u001b[39;00m PlyHeaderParseError(\u001b[38;5;124m\"\u001b[39m\u001b[38;5;124mexpected \u001b[39m\u001b[38;5;124m'\u001b[39m\u001b[38;5;124mply\u001b[39m\u001b[38;5;124m'\u001b[39m\u001b[38;5;124m\"\u001b[39m, \u001b[38;5;241m1\u001b[39m)\n\u001b[1;32m   1273\u001b[0m \u001b[38;5;28mself\u001b[39m\u001b[38;5;241m.\u001b[39mnl \u001b[38;5;241m=\u001b[39m s[\u001b[38;5;241m3\u001b[39m:]\n\u001b[1;32m   1274\u001b[0m \u001b[38;5;28;01mif\u001b[39;00m s[\u001b[38;5;241m3\u001b[39m:] \u001b[38;5;241m==\u001b[39m \u001b[38;5;124m'\u001b[39m\u001b[38;5;130;01m\\r\u001b[39;00m\u001b[38;5;124m'\u001b[39m:\n",
      "\u001b[0;31mPlyHeaderParseError\u001b[0m: line 1: expected 'ply'"
     ]
    }
   ],
   "source": [
    "from plyfile import PlyData\n",
    "\n",
    "# Load the PLY file\n",
    "ply_data = PlyData.read('/workspace/south-building/point_cloud/iteration_10/point_cloud.ply')  # Replace with your PLY file path\n",
    "\n",
    "# Access the vertex data (assuming the file contains vertices)\n",
    "vertex_data = ply_data['vertex']\n",
    "\n",
    "# Print a few lines of the vertex data\n",
    "for i in range(5):  # Adjust the range to view more or fewer lines\n",
    "    print(vertex_data[i])\n",
    "print(ply_data)"
   ]
  },
  {
   "cell_type": "code",
   "execution_count": 1,
   "metadata": {},
   "outputs": [],
   "source": [
    "from typing import List\n",
    "from co3d.dataset.data_types import (\n",
    "    load_dataclass_jgzip, FrameAnnotation, SequenceAnnotation\n",
    ")\n",
    "\n",
    "category_frame_annotations = load_dataclass_jgzip(\n",
    "    f\"../data/labeled_gs/raw/hydrant/hydrant/frame_annotations.jgz\", List[FrameAnnotation]\n",
    ")\n",
    "category_sequence_annotations = load_dataclass_jgzip(\n",
    "    f\"../data/labeled_gs/raw/hydrant/hydrant/sequence_annotations.jgz\", List[SequenceAnnotation]\n",
    ")"
   ]
  },
  {
   "cell_type": "code",
   "execution_count": 3,
   "metadata": {},
   "outputs": [
    {
     "data": {
      "text/plain": [
       "FrameAnnotation(sequence_name='605_94563_187702', frame_number=6, frame_timestamp=0.3845771144278607, image=ImageAnnotation(path='hydrant/605_94563_187702/images/frame000006.jpg', size=(1268, 713)), depth=DepthAnnotation(path='hydrant/605_94563_187702/depths/frame000006.jpg.geometric.png', scale_adjustment=1.0, mask_path='hydrant/605_94563_187702/depth_masks/frame000006.png'), mask=MaskAnnotation(path='hydrant/605_94563_187702/masks/frame000006.png', mass=1000000), viewpoint=ViewpointAnnotation(R=((-0.9998694658279419, -0.001025464036501944, -0.016123276203870773), (0.0009754493949003518, -0.999994695186615, 0.003109571523964405), (-0.016126379370689392, 0.003093438223004341, 0.9998651742935181)), T=(-0.06160982325673103, 1.5896116495132446, 14.91888427734375), focal_length=(3.4211699962615967, 3.4211699962615967), principal_point=(0.001402524532750249, -0.001402524532750249), intrinsics_format='ndc_isotropic'), meta={'frame_type': 'test_unseen', 'frame_splits': ['singlesequence_hydrant_test_0_unseen'], 'eval_batch_maps': []})"
      ]
     },
     "execution_count": 3,
     "metadata": {},
     "output_type": "execute_result"
    }
   ],
   "source": [
    "category_frame_annotations[0]"
   ]
  },
  {
   "cell_type": "markdown",
   "metadata": {},
   "source": [
    "### Upload labeled dataset to S3 bucket\n"
   ]
  },
  {
   "cell_type": "markdown",
   "metadata": {},
   "source": [
    "# Download labeled dataset from S3 bucket\n"
   ]
  },
  {
   "cell_type": "code",
   "execution_count": 4,
   "metadata": {
    "vscode": {
     "languageId": "plaintext"
    }
   },
   "outputs": [
    {
     "name": "stdout",
     "output_type": "stream",
     "text": [
      "total 11801\n",
      "drwxrwxrwx 7 root root 3003630 Aug 30 22:34 .\n",
      "drwxrwxrwx 4 root root 3003630 Aug 30 21:56 ..\n",
      "drwxrwxrwx 8 root root 1004083 Aug 30 21:55 .git\n",
      "-rw-rw-rw- 1 root root      49 Aug 30 21:55 .gitignore\n",
      "drwxrwxrwx 2 root root       1 Aug 30 22:34 .ipynb_checkpoints\n",
      "-rw-rw-rw- 1 root root    2004 Aug 30 21:55 README.md\n",
      "drwxrwxrwx 3 root root 3003630 Aug 30 21:55 data\n",
      "drwxrwxrwx 3 root root 1062694 Aug 30 22:36 notebooks\n",
      "-rw-rw-rw- 1 root root      13 Aug 30 21:55 requirements.txt\n",
      "drwxrwxrwx 3 root root 1000680 Aug 30 22:19 scripts\n"
     ]
    }
   ],
   "source": [
    "!cd .. && ls -la"
   ]
  }
 ],
 "metadata": {
  "kernelspec": {
   "display_name": "Python 3 (ipykernel)",
   "language": "python",
   "name": "python3"
  },
  "language_info": {
   "codemirror_mode": {
    "name": "ipython",
    "version": 3
   },
   "file_extension": ".py",
   "mimetype": "text/x-python",
   "name": "python",
   "nbconvert_exporter": "python",
   "pygments_lexer": "ipython3",
   "version": "3.10.12"
  }
 },
 "nbformat": 4,
 "nbformat_minor": 4
}
