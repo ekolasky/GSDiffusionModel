{
 "cells": [
  {
   "cell_type": "code",
   "execution_count": 22,
   "metadata": {},
   "outputs": [
    {
     "name": "stdout",
     "output_type": "stream",
     "text": [
      "The token has not been saved to the git credentials helper. Pass `add_to_git_credential=True` in this function directly or `--add-to-git-credential` if using via `huggingface-cli` if you want to set the git credential as well.\n",
      "Token is valid (permission: write).\n",
      "Your token has been saved to /root/.cache/huggingface/token\n",
      "Login successful\n",
      "14\n",
      "Model parameters:  37844494\n",
      "Epochs:   0%|                                            | 0/10 [00:00<?, ?it/s]\n",
      "Training:   0%|                                          | 0/10 [00:00<?, ?it/s]\u001b[A\n",
      "Epochs:   0%|                                            | 0/10 [00:00<?, ?it/s]\n",
      "Traceback (most recent call last):\n",
      "  File \"/usr/lib/python3.10/runpy.py\", line 196, in _run_module_as_main\n",
      "    return _run_code(code, main_globals, None,\n",
      "  File \"/usr/lib/python3.10/runpy.py\", line 86, in _run_code\n",
      "    exec(code, run_globals)\n",
      "  File \"/workspace/GSDiffusionModel/src/train.py\", line 143, in <module>\n",
      "    main()\n",
      "  File \"/workspace/GSDiffusionModel/src/train.py\", line 131, in main\n",
      "    train_diffusion_model(model,\n",
      "  File \"/workspace/GSDiffusionModel/src/train.py\", line 29, in train_diffusion_model\n",
      "    noisy_data, weight = create_noise_input_vecs(\n",
      "  File \"/workspace/GSDiffusionModel/src/gs_utils/training_utils.py\", line 73, in create_noise_input_vecs\n",
      "    noise[:, :, 0:3] = torch.randn_like(noise[:, :, 0:3]) * (noise_level * config.max_level_pos)\n",
      "RuntimeError: The size of tensor a (2048) must match the size of tensor b (8) at non-singleton dimension 1\n"
     ]
    }
   ],
   "source": [
    "!cd .. && python -m src.train"
   ]
  },
  {
   "cell_type": "code",
   "execution_count": null,
   "metadata": {},
   "outputs": [],
   "source": []
  }
 ],
 "metadata": {
  "kernelspec": {
   "display_name": "Python 3 (ipykernel)",
   "language": "python",
   "name": "python3"
  },
  "language_info": {
   "codemirror_mode": {
    "name": "ipython",
    "version": 3
   },
   "file_extension": ".py",
   "mimetype": "text/x-python",
   "name": "python",
   "nbconvert_exporter": "python",
   "pygments_lexer": "ipython3",
   "version": "3.10.12"
  }
 },
 "nbformat": 4,
 "nbformat_minor": 4
}
