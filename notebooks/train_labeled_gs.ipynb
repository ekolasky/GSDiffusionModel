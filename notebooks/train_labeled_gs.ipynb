{
 "cells": [
  {
   "cell_type": "code",
   "execution_count": 24,
   "metadata": {},
   "outputs": [
    {
     "name": "stdout",
     "output_type": "stream",
     "text": [
      "The token has not been saved to the git credentials helper. Pass `add_to_git_credential=True` in this function directly or `--add-to-git-credential` if using via `huggingface-cli` if you want to set the git credential as well.\n",
      "Token is valid (permission: write).\n",
      "Your token has been saved to /root/.cache/huggingface/token\n",
      "Login successful\n",
      "14\n",
      "Model parameters:  37844494\n",
      "Epochs:   0%|                                            | 0/10 [00:00<?, ?it/s]\n",
      "Training:   0%|                                          | 0/10 [00:00<?, ?it/s]\u001b[Atorch.Size([8])\n",
      "\n",
      "Training:  10%|███▍                              | 1/10 [00:02<00:19,  2.20s/it]\u001b[Atorch.Size([8])\n",
      "\n",
      "Training:  20%|██████▊                           | 2/10 [00:02<00:10,  1.32s/it]\u001b[Atorch.Size([8])\n",
      "\n",
      "Training:  30%|██████████▏                       | 3/10 [00:03<00:07,  1.04s/it]\u001b[Atorch.Size([8])\n",
      "\n",
      "Training:  40%|█████████████▌                    | 4/10 [00:04<00:05,  1.11it/s]\u001b[Atorch.Size([8])\n",
      "\n",
      "Training:  50%|█████████████████                 | 5/10 [00:05<00:04,  1.16it/s]\u001b[Atorch.Size([8])\n",
      "\n",
      "Training:  60%|████████████████████▍             | 6/10 [00:05<00:03,  1.24it/s]\u001b[Atorch.Size([8])\n",
      "\n",
      "Training:  70%|███████████████████████▊          | 7/10 [00:06<00:02,  1.29it/s]\u001b[Atorch.Size([8])\n",
      "\n",
      "Training:  80%|███████████████████████████▏      | 8/10 [00:07<00:01,  1.33it/s]\u001b[Atorch.Size([8])\n",
      "\n",
      "Training:  90%|██████████████████████████████▌   | 9/10 [00:07<00:00,  1.36it/s]\u001b[Atorch.Size([])\n",
      "Training:  90%|██████████████████████████████▌   | 9/10 [00:07<00:00,  1.13it/s]\n",
      "Epochs:   0%|                                            | 0/10 [00:07<?, ?it/s]\n",
      "Traceback (most recent call last):\n",
      "  File \"/usr/lib/python3.10/runpy.py\", line 196, in _run_module_as_main\n",
      "    return _run_code(code, main_globals, None,\n",
      "  File \"/usr/lib/python3.10/runpy.py\", line 86, in _run_code\n",
      "    exec(code, run_globals)\n",
      "  File \"/workspace/GSDiffusionModel/src/train.py\", line 143, in <module>\n",
      "    main()\n",
      "  File \"/workspace/GSDiffusionModel/src/train.py\", line 131, in main\n",
      "    train_diffusion_model(model,\n",
      "  File \"/workspace/GSDiffusionModel/src/train.py\", line 29, in train_diffusion_model\n",
      "    noisy_data, weight = create_noise_input_vecs(\n",
      "  File \"/workspace/GSDiffusionModel/src/gs_utils/training_utils.py\", line 64, in create_noise_input_vecs\n",
      "    noise_level = noise_level.unsqueeze(1).unsqueeze(2)\n",
      "IndexError: Dimension out of range (expected to be in range of [-1, 0], but got 1)\n"
     ]
    }
   ],
   "source": [
    "!cd .. && python -m src.train"
   ]
  },
  {
   "cell_type": "code",
   "execution_count": null,
   "metadata": {},
   "outputs": [],
   "source": []
  }
 ],
 "metadata": {
  "kernelspec": {
   "display_name": "Python 3 (ipykernel)",
   "language": "python",
   "name": "python3"
  },
  "language_info": {
   "codemirror_mode": {
    "name": "ipython",
    "version": 3
   },
   "file_extension": ".py",
   "mimetype": "text/x-python",
   "name": "python",
   "nbconvert_exporter": "python",
   "pygments_lexer": "ipython3",
   "version": "3.10.12"
  }
 },
 "nbformat": 4,
 "nbformat_minor": 4
}
