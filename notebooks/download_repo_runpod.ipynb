{
 "cells": [
  {
   "cell_type": "markdown",
   "metadata": {},
   "source": [
    "## This notebook lets you easily download this repo to a RunPod instance"
   ]
  },
  {
   "cell_type": "code",
   "execution_count": null,
   "metadata": {
    "vscode": {
     "languageId": "plaintext"
    }
   },
   "outputs": [],
   "source": [
    "import os\n",
    "import subprocess\n",
    "\n",
    "# GitHub repository URL\n",
    "repo_url = \"https://github.com/yourusername/GSDiffusionModel.git\"\n",
    "\n",
    "# Directory to clone the repository into\n",
    "clone_dir = \"/workspace/GSDiffusionModel\"\n",
    "\n",
    "# Check if the directory already exists\n",
    "if os.path.exists(clone_dir):\n",
    "    print(f\"The directory {clone_dir} already exists. Updating the repository...\")\n",
    "    # Change to the existing directory\n",
    "    os.chdir(clone_dir)\n",
    "    # Pull the latest changes\n",
    "    subprocess.run([\"git\", \"pull\"], check=True)\n",
    "    print(\"Repository updated successfully.\")\n",
    "else:\n",
    "    print(f\"Cloning the repository into {clone_dir}...\")\n",
    "    # Clone the repository\n",
    "    subprocess.run([\"git\", \"clone\", repo_url, clone_dir], check=True)\n",
    "    print(\"Repository cloned successfully.\")\n",
    "\n",
    "# Change to the cloned directory\n",
    "os.chdir(clone_dir)\n",
    "\n",
    "# Install requirements\n",
    "print(\"Installing requirements...\")\n",
    "subprocess.run([\"pip\", \"install\", \"-r\", \"requirements.txt\"], check=True)\n",
    "print(\"Requirements installed successfully.\")\n",
    "\n",
    "print(\"Repository is ready to use!\")"
   ]
  }
 ],
 "metadata": {
  "language_info": {
   "name": "python"
  }
 },
 "nbformat": 4,
 "nbformat_minor": 2
}
